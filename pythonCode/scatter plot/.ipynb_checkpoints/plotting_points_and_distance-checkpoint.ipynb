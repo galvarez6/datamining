{
 "cells": [
  {
   "cell_type": "code",
   "execution_count": null,
   "metadata": {},
   "outputs": [],
   "source": []
  },
  {
   "cell_type": "code",
   "execution_count": 1,
   "metadata": {},
   "outputs": [
    {
     "name": "stdout",
     "output_type": "stream",
     "text": [
      "data: [[1 1]\n",
      " [2 2]\n",
      " [3 3]\n",
      " [4 4]]\n"
     ]
    }
   ],
   "source": [
    "%matplotlib inline\n",
    "import matplotlib.pyplot as plt\n",
    "import numpy as np\n",
    "# 5 Data points with 2 features\n",
    "data = np.array([[1,1],[2,2],[3,3],[4,4]])\n",
    "print(\"data:\",data)"
   ]
  },
  {
   "cell_type": "code",
   "execution_count": 2,
   "metadata": {},
   "outputs": [
    {
     "data": {
      "image/png": "[encoded data removed]",
      "text/plain": [
       "<Figure size 432x288 with 1 Axes>"
      ]
     },
     "metadata": {
      "needs_background": "light"
     },
     "output_type": "display_data"
    }
   ],
   "source": [
    "# Plotting the data\n",
    "fig = plt.figure()\n",
    "plt.scatter(data[:,:1], data[:,1:2])\n",
    "fig.suptitle('Scatter Plot', fontsize=20)\n",
    "plt.xlabel('feature1', fontsize=16)\n",
    "plt.ylabel('feature2', fontsize=16)\n",
    "fig.savefig('ScatterPlot.jpg')"
   ]
  },
  {
   "cell_type": "code",
   "execution_count": 3,
   "metadata": {},
   "outputs": [
    {
     "name": "stdout",
     "output_type": "stream",
     "text": [
      "data2: [[10  3  3  5 10]\n",
      " [ 5  4  5  3  6]\n",
      " [10  4  6  4  9]\n",
      " [ 8  6  2  6  3]\n",
      " [ 9  2  1  2 11]]\n"
     ]
    }
   ],
   "source": [
    "# 5 Data points with each has 5 features\n",
    "data2 = np.array([[10,3,3,5,10],\n",
    "                  [5,4,5,3,6],\n",
    "                  [10,4,6,4,9],\n",
    "                  [8,6,2,6,3],\n",
    "                  [9,2,1,2,11]])\n",
    "print(\"data2:\",data2)"
   ]
  },
  {
   "cell_type": "code",
   "execution_count": 4,
   "metadata": {},
   "outputs": [
    {
     "name": "stdout",
     "output_type": "stream",
     "text": [
      "manhattan distance using math: 16\n"
     ]
    }
   ],
   "source": [
    "# Manhattan distance between row 1 and row 4. Remember in numpy array, index start with 0. So row 1 means second row.\n",
    "man_dist = np.sum(abs(data2[1]-data2[4]))\n",
    "print(\"manhattan distance using math:\", man_dist)"
   ]
  },
  {
   "cell_type": "code",
   "execution_count": 5,
   "metadata": {},
   "outputs": [
    {
     "name": "stdout",
     "output_type": "stream",
     "text": [
      "euclidean distance using math: 7.874007874011811\n"
     ]
    }
   ],
   "source": [
    "# Euclidean distance between row 1 and row 4. Remember in numpy array, index start with 0. So row 1 means second row.\n",
    "euclidean_dist = np.sqrt(np.sum((data2[1]-data2[4])**2))\n",
    "print(\"euclidean distance using math:\", euclidean_dist)"
   ]
  },
  {
   "cell_type": "code",
   "execution_count": 6,
   "metadata": {},
   "outputs": [
    {
     "name": "stdout",
     "output_type": "stream",
     "text": [
      "manhattan distance using scipy: 16\n"
     ]
    }
   ],
   "source": [
    "# Manhattan distance using scipy library\n",
    "from scipy.spatial import distance\n",
    "man_dist2 = distance.cityblock(data2[1],data2[4])\n",
    "print(\"manhattan distance using scipy:\", man_dist2)"
   ]
  },
  {
   "cell_type": "code",
   "execution_count": 7,
   "metadata": {},
   "outputs": [
    {
     "name": "stdout",
     "output_type": "stream",
     "text": [
      "euclidean distance using scipy: 7.874007874011811\n"
     ]
    }
   ],
   "source": [
    "# Euclidean distance using scipy library\n",
    "from scipy.spatial import distance\n",
    "euclidean_dist2 = distance.euclidean(data2[1],data2[4])\n",
    "print(\"euclidean distance using scipy:\",euclidean_dist2)"
   ]
  },
  {
   "cell_type": "code",
   "execution_count": null,
   "metadata": {},
   "outputs": [],
   "source": []
  }
 ],
 "metadata": {
  "kernelspec": {
   "display_name": "Python 3",
   "language": "python",
   "name": "python3"
  },
  "language_info": {
   "codemirror_mode": {
    "name": "ipython",
    "version": 3
   },
   "file_extension": ".py",
   "mimetype": "text/x-python",
   "name": "python",
   "nbconvert_exporter": "python",
   "pygments_lexer": "ipython3",
   "version": "3.8.3"
  }
 },
 "nbformat": 4,
 "nbformat_minor": 4
}
